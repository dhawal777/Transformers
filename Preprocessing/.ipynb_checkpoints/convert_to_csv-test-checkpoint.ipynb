{
 "cells": [
  {
   "cell_type": "code",
   "execution_count": 2,
   "metadata": {},
   "outputs": [],
   "source": [
    "import json\n",
    "import pandas as pd\n",
    "import os\n",
    "import processor as p"
   ]
  },
  {
   "cell_type": "code",
   "execution_count": 3,
   "metadata": {},
   "outputs": [],
   "source": [
    "files1 = os.listdir('../../Dataset/rumoureval-2019-test-data/twitter-en-test-data/')\n",
    "rootdir = '../../Dataset/rumoureval-2019-test-data/twitter-en-test-data/'"
   ]
  },
  {
   "cell_type": "code",
   "execution_count": 5,
   "metadata": {},
   "outputs": [],
   "source": [
    "ids = []\n",
    "text = []\n",
    "labels = []\n",
    "\n",
    "for file1 in files1:\n",
    "    path1 = os.path.join(rootdir,file1)\n",
    "    try:\n",
    "        files2 = os.listdir(path1)\n",
    "    except:\n",
    "        print(file1)\n",
    "        continue\n",
    "    for file2 in files2:\n",
    "        path3 = os.path.join(path1,file2+'/source-tweet')\n",
    "        path4 = os.path.join(path1,file2+'/replies')\n",
    "        try:\n",
    "            source = os.listdir(path3)\n",
    "            replies = os.listdir(path4)\n",
    "        except:\n",
    "            continue\n",
    "#         with open(os.path.join(path3,source[0]),'rb') as f:\n",
    "#             tweet = json.load(f)\n",
    "#         ids.append(tweet['id'])\n",
    "#         text.append(tweet['text'])\n",
    "        for reply in replies:\n",
    "            with open(os.path.join(path4,reply),'rb') as f:\n",
    "                tweet = json.load(f)\n",
    "            ids.append(tweet['id_str'])\n",
    "            text.append(tweet['text'])"
   ]
  },
  {
   "cell_type": "code",
   "execution_count": null,
   "metadata": {},
   "outputs": [],
   "source": [
    "temp = []\n",
    "for x in text:\n",
    "    string = p.clean(x)\n",
    "    string = re.sub(r'[^\\\\w\\\\s]','',string)\n",
    "    temp.append(string)\n",
    "text = temp"
   ]
  },
  {
   "cell_type": "code",
   "execution_count": 4,
   "metadata": {},
   "outputs": [],
   "source": [
    "with open('final-eval-key.json','rb') as f:\n",
    "    keys = json.load(f)\n",
    "# with open('rumoureval-2019-training-data/dev-key.json','rb') as f:\n",
    "#     keys1 = json.load(f)"
   ]
  },
  {
   "cell_type": "code",
   "execution_count": 6,
   "metadata": {},
   "outputs": [],
   "source": [
    "cou = []\n",
    "for i in ids:\n",
    "    try:\n",
    "        labels.append(keys['subtaskaenglish'][i])\n",
    "    except:\n",
    "        cou.append(i) \n",
    "for i in cou:\n",
    "    try:\n",
    "        labels.append(keys1['subtaskaenglish'][i])\n",
    "    except:\n",
    "        pass"
   ]
  },
  {
   "cell_type": "code",
   "execution_count": 9,
   "metadata": {},
   "outputs": [],
   "source": [
    "from sklearn import preprocessing\n",
    "le = preprocessing.LabelEncoder()\n",
    "le.fit(labels)\n",
    "labels = le.transform(labels)"
   ]
  },
  {
   "cell_type": "code",
   "execution_count": 10,
   "metadata": {},
   "outputs": [],
   "source": [
    "df = pd.DataFrame({\n",
    "    'id':ids,\n",
    "    'label':labels,\n",
    "    'text': text\n",
    "})\n",
    "df.to_csv('dataset_test.tsv','\\t',index = False,header = False)"
   ]
  },
  {
   "cell_type": "code",
   "execution_count": null,
   "metadata": {},
   "outputs": [],
   "source": []
  },
  {
   "cell_type": "code",
   "execution_count": null,
   "metadata": {},
   "outputs": [],
   "source": []
  }
 ],
 "metadata": {
  "kernelspec": {
   "display_name": "Python 3",
   "language": "python",
   "name": "python3"
  },
  "language_info": {
   "codemirror_mode": {
    "name": "ipython",
    "version": 3
   },
   "file_extension": ".py",
   "mimetype": "text/x-python",
   "name": "python",
   "nbconvert_exporter": "python",
   "pygments_lexer": "ipython3",
   "version": "3.7.0"
  }
 },
 "nbformat": 4,
 "nbformat_minor": 2
}
